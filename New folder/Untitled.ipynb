{
 "cells": [
  {
   "cell_type": "code",
   "execution_count": 36,
   "metadata": {
    "collapsed": false
   },
   "outputs": [
    {
     "name": "stdout",
     "output_type": "stream",
     "text": [
      "List does not have even number\n",
      "List has odd number\n"
     ]
    }
   ],
   "source": [
    "l=[1]\n",
    "m=n=0\n",
    "for i in l:\n",
    "    if i%2==0:\n",
    "        m=m+1\n",
    "    else:\n",
    "        n=n+1\n",
    "if m>0:\n",
    "    print(\"List has even number\")\n",
    "elif m==0:\n",
    "    print(\"List does not have even number\")\n",
    "if n>0:\n",
    "    print(\"List has odd number\")\n",
    "else:\n",
    "    print(\"List does not have odd number\")\n",
    "if m==0 and n==0:\n",
    "    print(\"list donot contain any number\")"
   ]
  },
  {
   "cell_type": "code",
   "execution_count": null,
   "metadata": {
    "collapsed": false
   },
   "outputs": [],
   "source": [
    "l=[1,3,4,5,7,8,9]\n",
    "x=int(input(\" input your position here \"))\n",
    "y=int(input(\" input your number here \"))\n",
    "l.insert(x,y)\n",
    "print(l)"
   ]
  },
  {
   "cell_type": "code",
   "execution_count": null,
   "metadata": {
    "collapsed": true
   },
   "outputs": [],
   "source": [
    "l=[1,3,4,5,7,8,9]\n",
    "x=int(input(\" input your position here \"))\n",
    "y=int(input(\" input your number here \"))\n",
    "l.insert(x,y)\n",
    "print(l)"
   ]
  },
  {
   "cell_type": "code",
   "execution_count": null,
   "metadata": {
    "collapsed": true
   },
   "outputs": [],
   "source": []
  }
 ],
 "metadata": {
  "kernelspec": {
   "display_name": "Python [Root]",
   "language": "python",
   "name": "Python [Root]"
  },
  "language_info": {
   "codemirror_mode": {
    "name": "ipython",
    "version": 3
   },
   "file_extension": ".py",
   "mimetype": "text/x-python",
   "name": "python",
   "nbconvert_exporter": "python",
   "pygments_lexer": "ipython3",
   "version": "3.5.2"
  }
 },
 "nbformat": 4,
 "nbformat_minor": 0
}
