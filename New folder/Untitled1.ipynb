{
 "cells": [
  {
   "cell_type": "code",
   "execution_count": 3,
   "metadata": {
    "collapsed": false
   },
   "outputs": [
    {
     "name": "stdout",
     "output_type": "stream",
     "text": [
      " input your position here 5\n",
      " input your number here 4\n",
      "Do you want to run again(y/n)\n",
      "y\n",
      " input your position here 1\n",
      " input your number here 2\n",
      "Do you want to run again(y/n)\n",
      "n\n",
      "[1, 2, 3, 4, 5, 7, 4, 8, 9]\n"
     ]
    }
   ],
   "source": [
    "l=[1,3,4,5,7,8,9]\n",
    "a='y'\n",
    "while a =='y':\n",
    "    x=int(input(\" input your position here \"))\n",
    "    y=int(input(\" input your number here \"))\n",
    "    l.insert(x,y)\n",
    "    print(\"Do you want to run again(y/n)\")\n",
    "    z= input()\n",
    "    if z=='n':\n",
    "        break\n",
    "print(l)"
   ]
  },
  {
   "cell_type": "code",
   "execution_count": 7,
   "metadata": {
    "collapsed": false
   },
   "outputs": [
    {
     "name": "stdout",
     "output_type": "stream",
     "text": [
      "26\n"
     ]
    }
   ],
   "source": [
    "d={}\n",
    "m=0\n",
    "d['Apple']=5\n",
    "d['orange']=9\n",
    "d['Banana']=12\n",
    "for i in d:\n",
    "    \n",
    "    m=m+d[i]\n",
    "print(m)"
   ]
  },
  {
   "cell_type": "code",
   "execution_count": 8,
   "metadata": {
    "collapsed": false
   },
   "outputs": [
    {
     "name": "stdout",
     "output_type": "stream",
     "text": [
      "24\n"
     ]
    }
   ],
   "source": [
    "d={\"Apple\":5 , \"orange\":7 ,\"banana\":12}\n",
    "print(sum(d.values()))"
   ]
  },
  {
   "cell_type": "code",
   "execution_count": 14,
   "metadata": {
    "collapsed": false
   },
   "outputs": [
    {
     "name": "stdout",
     "output_type": "stream",
     "text": [
      "input range 5\n",
      "{1: 1.0, 2: 1.4142135623730951, 3: 1.7320508075688772, 4: 2.0, 5: 2.23606797749979}\n"
     ]
    }
   ],
   "source": [
    "i=int(input(\"input range \"))\n",
    "d={}\n",
    "for i in range(1,i+1):\n",
    "    d[i]=i**0.5\n",
    "print(d)"
   ]
  },
  {
   "cell_type": "code",
   "execution_count": 17,
   "metadata": {
    "collapsed": false
   },
   "outputs": [
    {
     "name": "stdout",
     "output_type": "stream",
     "text": [
      "1st number4\n",
      "2nd number8\n",
      "operatorr/\n",
      "0.5\n"
     ]
    }
   ],
   "source": [
    "x=int(input (\"1st number: \"))\n",
    "y=int(input (\"2nd number: \"))\n",
    "z=input (\"operator: \")\n",
    "if z==\"+\":\n",
    "    print(x+y)\n",
    "elif z==\"-\":\n",
    "    print(x-y)\n",
    "elif z==\"*\":\n",
    "    print(x*y)\n",
    "elif z==\"/\":\n",
    "    print(x/y)\n",
    "else:\n",
    "    print(\"error\")"
   ]
  },
  {
   "cell_type": "code",
   "execution_count": null,
   "metadata": {
    "collapsed": true
   },
   "outputs": [],
   "source": []
  },
  {
   "cell_type": "code",
   "execution_count": null,
   "metadata": {
    "collapsed": true
   },
   "outputs": [],
   "source": []
  }
 ],
 "metadata": {
  "kernelspec": {
   "display_name": "Python [Root]",
   "language": "python",
   "name": "Python [Root]"
  },
  "language_info": {
   "codemirror_mode": {
    "name": "ipython",
    "version": 3
   },
   "file_extension": ".py",
   "mimetype": "text/x-python",
   "name": "python",
   "nbconvert_exporter": "python",
   "pygments_lexer": "ipython3",
   "version": "3.5.2"
  }
 },
 "nbformat": 4,
 "nbformat_minor": 0
}
