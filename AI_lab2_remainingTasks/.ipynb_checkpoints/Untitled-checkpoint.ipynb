{
 "cells": [
  {
   "cell_type": "code",
   "execution_count": 5,
   "metadata": {
    "collapsed": false
   },
   "outputs": [
    {
     "name": "stdout",
     "output_type": "stream",
     "text": [
      "[1, 4, 9, 16, 25, 36, 49, 64, 81, 100, 121, 144, 169, 196, 225, 256, 289, 324, 361]\n"
     ]
    }
   ],
   "source": [
    "def f():\n",
    "    l=list()\n",
    "    for i in range(1,20):\n",
    "        l.append(i**2)\n",
    "    return l\n",
    "print(f())"
   ]
  },
  {
   "cell_type": "code",
   "execution_count": 12,
   "metadata": {
    "collapsed": false
   },
   "outputs": [],
   "source": [
    "class shape:\n",
    "    def __init__(self):\n",
    "        print(\"shape constructor called\")\n",
    "    @staticmethod\n",
    "    def printType():\n",
    "        print (\"shape\")"
   ]
  },
  {
   "cell_type": "code",
   "execution_count": 16,
   "metadata": {
    "collapsed": false
   },
   "outputs": [],
   "source": [
    "class Rectangle (shape):\n",
    "    def __init__(self):\n",
    "        super().__init__()\n",
    "        self.length=0\n",
    "        self.width=0\n",
    "    def draw(self):\n",
    "        print(\"draw rectangle\")"
   ]
  },
  {
   "cell_type": "code",
   "execution_count": 15,
   "metadata": {
    "collapsed": false
   },
   "outputs": [],
   "source": [
    "class Triangle (shape):\n",
    "    def __init__(self):\n",
    "        super().__init__()\n",
    "        self.x=0\n",
    "        self.y=0\n",
    "        self.z=0    \n",
    "    def draw(self):\n",
    "        print(\"draw triangle\")"
   ]
  },
  {
   "cell_type": "code",
   "execution_count": 23,
   "metadata": {
    "collapsed": false
   },
   "outputs": [
    {
     "name": "stdout",
     "output_type": "stream",
     "text": [
      "shape constructor called\n",
      "shape\n"
     ]
    }
   ],
   "source": [
    "\n",
    "s=shape()\n",
    "s.printType()"
   ]
  },
  {
   "cell_type": "code",
   "execution_count": 22,
   "metadata": {
    "collapsed": false
   },
   "outputs": [
    {
     "name": "stdout",
     "output_type": "stream",
     "text": [
      "shape\n"
     ]
    }
   ],
   "source": [
    "shape.printType()"
   ]
  },
  {
   "cell_type": "code",
   "execution_count": 25,
   "metadata": {
    "collapsed": false
   },
   "outputs": [
    {
     "name": "stdout",
     "output_type": "stream",
     "text": [
      "shape constructor called\n",
      "draw rectangle\n"
     ]
    }
   ],
   "source": [
    "r=Rectangle()\n",
    "r.draw()"
   ]
  },
  {
   "cell_type": "code",
   "execution_count": 36,
   "metadata": {
    "collapsed": false
   },
   "outputs": [
    {
     "name": "stdout",
     "output_type": "stream",
     "text": [
      "Enter the string to be reversed ifrah\n",
      "the reverse is harfi\n"
     ]
    }
   ],
   "source": [
    "def reverse(s):\n",
    "    if len(s) == 0:\n",
    "        return \"\"\n",
    "    else:\n",
    "        return reverse(s[1:]) + s[0]\n",
    "s = input(\"Enter the string to be reversed \")\n",
    "print(\"the reverse is\",reverse(s))"
   ]
  },
  {
   "cell_type": "code",
   "execution_count": null,
   "metadata": {
    "collapsed": true
   },
   "outputs": [],
   "source": []
  }
 ],
 "metadata": {
  "kernelspec": {
   "display_name": "Python [Root]",
   "language": "python",
   "name": "Python [Root]"
  },
  "language_info": {
   "codemirror_mode": {
    "name": "ipython",
    "version": 3
   },
   "file_extension": ".py",
   "mimetype": "text/x-python",
   "name": "python",
   "nbconvert_exporter": "python",
   "pygments_lexer": "ipython3",
   "version": "3.5.2"
  }
 },
 "nbformat": 4,
 "nbformat_minor": 0
}
