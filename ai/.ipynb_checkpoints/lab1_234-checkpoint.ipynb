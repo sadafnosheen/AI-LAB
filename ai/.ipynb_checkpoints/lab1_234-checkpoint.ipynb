{
 "cells": [
  {
   "cell_type": "code",
   "execution_count": 1,
   "metadata": {
    "collapsed": false
   },
   "outputs": [
    {
     "name": "stdout",
     "output_type": "stream",
     "text": [
      "enter monthjanuary\n",
      "winter\n"
     ]
    }
   ],
   "source": [
    "print(\"season name\")\n",
    "month=input(\"enter month name\")\n",
    "if month in (\"january\", \"febraury\", \"march\"):\n",
    "    print(\"winter\")\n",
    "elif month in ( \"april\",\"may\", \"june\"):\n",
    "    print(\"spring\")\n",
    "elif month in (\"july\", \"august\",\"september\"):\n",
    "    print(\"summer\")\n",
    "elif month in (\"october\", \"november\",\"december\"):\n",
    "    print(\"autumn\")"
   ]
  },
  {
   "cell_type": "code",
   "execution_count": 31,
   "metadata": {
    "collapsed": false
   },
   "outputs": [
    {
     "name": "stdout",
     "output_type": "stream",
     "text": [
      "enter a month 12\n",
      "it's autumn\n"
     ]
    }
   ],
   "source": [
    "print (\"season with digits\")\n",
    "x=int(input(\"enter a month number \"))\n",
    "if (x>=1 and x<=3):\n",
    "    print(\"it's winter\")\n",
    "elif (x>=4 and x<=6):\n",
    "    print(\"it's spring\")\n",
    "elif (x>=7 and x<=9):\n",
    "    print(\"it's summer\")\n",
    "elif (x>=10 and x<=12):\n",
    "    print(\"it's autumn\")\n",
    "else:\n",
    "    print(\"please input valid month\")"
   ]
  },
  {
   "cell_type": "code",
   "execution_count": 29,
   "metadata": {
    "collapsed": false
   },
   "outputs": [
    {
     "name": "stdout",
     "output_type": "stream",
     "text": [
      "enter year12\n",
      "12 is a leap year\n"
     ]
    }
   ],
   "source": [
    "print(\"leap year program\")\n",
    "year= int(input(\"enter year\"))\n",
    "if(year%4)==0:\n",
    "    if(year%100)==0:\n",
    "        if(year%400)==0:\n",
    "            print(year,\"is a leap year\")\n",
    "        else:\n",
    "            print(year,\"is not a leap year\")\n",
    "    else:\n",
    "        print(year,\"is a leap year\")\n",
    "else:\n",
    "    print(year,\"is not a leap year\")"
   ]
  },
  {
   "cell_type": "code",
   "execution_count": 7,
   "metadata": {
    "collapsed": false
   },
   "outputs": [
    {
     "name": "stdout",
     "output_type": "stream",
     "text": [
      "enter stringhgfuyq983784\n",
      "letter are 6\n",
      "digits are 6\n"
     ]
    }
   ],
   "source": [
    "print(\"seperate number and strings\")\n",
    "string=input(\"enter string\")\n",
    "d=l=0\n",
    "for c in string:\n",
    "    if c.isdigit():\n",
    "        d=d+1\n",
    "    elif c.isalpha():\n",
    "        l=l+1\n",
    "    else:\n",
    "        pass\n",
    "print (\"letter are\",l)\n",
    "print (\"digits are\",d)"
   ]
  },
  {
   "cell_type": "code",
   "execution_count": 33,
   "metadata": {
    "collapsed": false
   },
   "outputs": [
    {
     "name": "stdout",
     "output_type": "stream",
     "text": [
      "H\n",
      "e\n",
      "l\n",
      "l\n",
      "o\n",
      " \n",
      "w\n",
      "o\n",
      "r\n",
      "l\n",
      "d\n"
     ]
    },
    {
     "data": {
      "text/plain": [
       "'dlrow olleH'"
      ]
     },
     "execution_count": 33,
     "metadata": {},
     "output_type": "execute_result"
    }
   ],
   "source": [
    "print(\"print reverse string\")\n",
    "s=\"Hello world\"\n",
    "for i in s:\n",
    "    print(i)\n",
    "s[-1::-1]"
   ]
  },
  {
   "cell_type": "code",
   "execution_count": null,
   "metadata": {
    "collapsed": true
   },
   "outputs": [],
   "source": []
  }
 ],
 "metadata": {
  "anaconda-cloud": {},
  "kernelspec": {
   "display_name": "Python [Root]",
   "language": "python",
   "name": "Python [Root]"
  },
  "language_info": {
   "codemirror_mode": {
    "name": "ipython",
    "version": 3
   },
   "file_extension": ".py",
   "mimetype": "text/x-python",
   "name": "python",
   "nbconvert_exporter": "python",
   "pygments_lexer": "ipython3",
   "version": "3.5.2"
  }
 },
 "nbformat": 4,
 "nbformat_minor": 0
}
