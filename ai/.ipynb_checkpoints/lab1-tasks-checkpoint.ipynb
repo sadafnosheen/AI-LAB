{
 "cells": [
  {
   "cell_type": "code",
   "execution_count": null,
   "metadata": {
    "collapsed": false
   },
   "outputs": [],
   "source": [
    "x=int(input(\"any number: \"))\n",
    "if x%2==0:\n",
    "    print(x,\" is even\")\n",
    "else:\n",
    "    print(x,\" is odd\")"
   ]
  },
  {
   "cell_type": "code",
   "execution_count": null,
   "metadata": {
    "collapsed": true
   },
   "outputs": [],
   "source": [
    "x=int(input(\"enter a month \"))\n",
    "if (x==1 or x==2 or x== 12):\n",
    "    print(\"it's winter\")\n",
    "elif (x==3 or x==4 or x== 5):\n",
    "    print(\"it's spring\")\n",
    "elif (x==6 or x==7 or x== 8):\n",
    "    print(\"it's summer\")\n",
    "elif (x==9 or x==10 or x== 11):\n",
    "    print(\"it's autumn\")\n",
    "else:\n",
    "    print(\"please input valid month\")"
   ]
  },
  {
   "cell_type": "code",
   "execution_count": null,
   "metadata": {
    "collapsed": true
   },
   "outputs": [],
   "source": [
    "x=int(input(\"enter a month \"))\n",
    "if x in range[1:3]:\n",
    "    print(\"it's winter\")\n",
    "elif x in range[4:6]:\n",
    "    print(\"it's spring\")\n",
    "elif x in range[7:9]:\n",
    "    print(\"it's summer\")\n",
    "elif x in range[10:12]:\n",
    "    print(\"it's autumn\")\n",
    "else:\n",
    "    print(\"please input valid month\")"
   ]
  },
  {
   "cell_type": "code",
   "execution_count": null,
   "metadata": {
    "collapsed": true
   },
   "outputs": [],
   "source": [
    "month=input(\"enter month\")\n",
    "if month in (\"january\", \"febraury\", \"march\"):\n",
    "    print(\"winter\")\n",
    "elif month in ( \"april\",\"may\", \"june\"):\n",
    "    print(\"spring\")\n",
    "elif month in (\"july\", \"august\",\"september\"):\n",
    "    print(\"summer\")\n",
    "elif month in (\"october\", \"november\",\"december\"):\n",
    "    print(\"autumn\")\n"
   ]
  },
  {
   "cell_type": "code",
   "execution_count": null,
   "metadata": {
    "collapsed": true
   },
   "outputs": [],
   "source": [
    "x=int(input(\"enter a month \"))\n",
    "if x in range[1:3]:\n",
    "    print(\"it's winter\")\n",
    "elif x in range[4:6]:\n",
    "    print(\"it's spring\")\n",
    "elif x in range[7:9]:\n",
    "    print(\"it's summer\")\n",
    "elif x in range[10:12]:\n",
    "    print(\"it's autumn\")\n",
    "else:\n",
    "    print(\"please input valid month\")"
   ]
  },
  {
   "cell_type": "code",
   "execution_count": null,
   "metadata": {
    "collapsed": true
   },
   "outputs": [],
   "source": []
  }
 ],
 "metadata": {
  "anaconda-cloud": {},
  "kernelspec": {
   "display_name": "Python [Root]",
   "language": "python",
   "name": "Python [Root]"
  },
  "language_info": {
   "codemirror_mode": {
    "name": "ipython",
    "version": 3
   },
   "file_extension": ".py",
   "mimetype": "text/x-python",
   "name": "python",
   "nbconvert_exporter": "python",
   "pygments_lexer": "ipython3",
   "version": "3.5.2"
  }
 },
 "nbformat": 4,
 "nbformat_minor": 0
}
